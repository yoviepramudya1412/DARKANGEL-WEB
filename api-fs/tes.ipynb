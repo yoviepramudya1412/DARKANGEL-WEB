{
 "cells": [
  {
   "cell_type": "code",
   "execution_count": 1,
   "id": "105d782e",
   "metadata": {},
   "outputs": [],
   "source": [
    "from deepface import DeepFace"
   ]
  },
  {
   "cell_type": "code",
   "execution_count": 2,
   "id": "ac1ae100",
   "metadata": {},
   "outputs": [],
   "source": [
    "img1 = \"input-images/1.jpg\"\n",
    "img2 = \"input-images/2.jpg\""
   ]
  },
  {
   "cell_type": "code",
   "execution_count": 3,
   "id": "36cc1983",
   "metadata": {},
   "outputs": [
    {
     "name": "stderr",
     "output_type": "stream",
     "text": [
      "Verification:   0%|                                                                                       | 0/1 [00:03<?, ?it/s]\n"
     ]
    }
   ],
   "source": [
    "verif = DeepFace.verify(img1_path = img1, img2_path = img2, model_name = [\"Dlib\", \"Seresnet18\"], voting_method = \"based on threshold\")"
   ]
  },
  {
   "cell_type": "code",
   "execution_count": 4,
   "id": "82ff4d19",
   "metadata": {},
   "outputs": [
    {
     "data": {
      "text/plain": [
       "{'test': 'input-images/1.jpg',\n",
       " 'train': 'input-images/2.jpg',\n",
       " 'verified': False,\n",
       " 'distances': [0.1068, 0.9712],\n",
       " 'model': ['Dlib', 'Seresnet18'],\n",
       " 'thresholds': [0.08, 0.99],\n",
       " 'distance_metric': 'cosine',\n",
       " 'verified_by_model': [False, True],\n",
       " 'voting_method': 'based on threshold',\n",
       " 'duration': 4.624958276748657}"
      ]
     },
     "execution_count": 4,
     "metadata": {},
     "output_type": "execute_result"
    }
   ],
   "source": [
    "verif"
   ]
  },
  {
   "cell_type": "code",
   "execution_count": null,
   "id": "5869457b",
   "metadata": {},
   "outputs": [],
   "source": []
  }
 ],
 "metadata": {
  "kernelspec": {
   "display_name": "env-aril-3.7",
   "language": "python",
   "name": "env-aril-3.7"
  },
  "language_info": {
   "codemirror_mode": {
    "name": "ipython",
    "version": 3
   },
   "file_extension": ".py",
   "mimetype": "text/x-python",
   "name": "python",
   "nbconvert_exporter": "python",
   "pygments_lexer": "ipython3",
   "version": "3.7.12"
  }
 },
 "nbformat": 4,
 "nbformat_minor": 5
}
